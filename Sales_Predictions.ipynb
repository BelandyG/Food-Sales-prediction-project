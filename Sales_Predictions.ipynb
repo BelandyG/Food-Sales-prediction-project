{
  "nbformat": 4,
  "nbformat_minor": 0,
  "metadata": {
    "colab": {
      "provenance": [],
      "authorship_tag": "ABX9TyOBqCXosxaeYn5EA6jTmjvE",
      "include_colab_link": true
    },
    "kernelspec": {
      "name": "python3",
      "display_name": "Python 3"
    },
    "language_info": {
      "name": "python"
    }
  },
  "cells": [
    {
      "cell_type": "markdown",
      "metadata": {
        "id": "view-in-github",
        "colab_type": "text"
      },
      "source": [
        "<a href=\"https://colab.research.google.com/github/BelandyG/Sales-prediction/blob/main/Sales_Predictions.ipynb\" target=\"_parent\"><img src=\"https://colab.research.google.com/assets/colab-badge.svg\" alt=\"Open In Colab\"/></a>"
      ]
    },
    {
      "cell_type": "markdown",
      "source": [
        "# Sales Predictions"
      ],
      "metadata": {
        "id": "JUsBZutY9W9s"
      }
    },
    {
      "cell_type": "markdown",
      "source": [
        "Belandy Gard"
      ],
      "metadata": {
        "id": "CN7vJj2p-zpN"
      }
    },
    {
      "cell_type": "markdown",
      "source": [
        "# Loading Data"
      ],
      "metadata": {
        "id": "7-f5E8tT-GmI"
      }
    },
    {
      "cell_type": "code",
      "source": [],
      "metadata": {
        "id": "EmjHl_sv-NGC"
      },
      "execution_count": null,
      "outputs": []
    },
    {
      "cell_type": "markdown",
      "source": [
        "# Data Cleaning"
      ],
      "metadata": {
        "id": "NqP66KTm-Aqq"
      }
    },
    {
      "cell_type": "code",
      "source": [],
      "metadata": {
        "id": "p0bbchSL-rpg"
      },
      "execution_count": null,
      "outputs": []
    },
    {
      "cell_type": "markdown",
      "source": [
        "# Exploratory Visual"
      ],
      "metadata": {
        "id": "k18pGl25-Vos"
      }
    },
    {
      "cell_type": "code",
      "source": [],
      "metadata": {
        "id": "SN6gxpzv-oLa"
      },
      "execution_count": null,
      "outputs": []
    },
    {
      "cell_type": "markdown",
      "source": [
        "# Explanatory Visuals"
      ],
      "metadata": {
        "id": "sXG8kHd0-lJT"
      }
    },
    {
      "cell_type": "code",
      "source": [],
      "metadata": {
        "id": "DEGOvrxX-pe_"
      },
      "execution_count": null,
      "outputs": []
    },
    {
      "cell_type": "markdown",
      "source": [],
      "metadata": {
        "id": "VooEz9Sl-EG3"
      }
    }
  ]
}